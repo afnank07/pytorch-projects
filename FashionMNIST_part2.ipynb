{
 "cells": [
  {
   "cell_type": "markdown",
   "metadata": {},
   "source": [
    "## Here we'll understand how thw CNN layers work and different hyperparameters of it"
   ]
  },
  {
   "cell_type": "code",
   "execution_count": 2,
   "metadata": {},
   "outputs": [
    {
     "name": "stderr",
     "output_type": "stream",
     "text": [
      "d:\\environments\\mltorch\\lib\\site-packages\\torchaudio\\backend\\utils.py:74: UserWarning: No audio backend is available.\n",
      "  warnings.warn(\"No audio backend is available.\")\n"
     ]
    }
   ],
   "source": [
    "import torch\n",
    "from torch import nn\n",
    "import torchmetrics\n",
    "\n",
    "import matplotlib.pyplot as plt\n",
    "import numpy as np\n",
    "\n",
    "import torchvision\n",
    "from torchvision import datasets, transforms\n",
    "\n",
    "from torch.utils.data import dataset\n",
    "from torch.utils.data import DataLoader"
   ]
  },
  {
   "cell_type": "code",
   "execution_count": 3,
   "metadata": {},
   "outputs": [],
   "source": [
    "train_data = datasets.FashionMNIST(root=\"Data\", \n",
    "                             train=True, \n",
    "                             transform=torchvision.transforms.ToTensor(),\n",
    "                             target_transform=None,\n",
    "                             download=True)\n",
    "\n",
    "test_data = datasets.FashionMNIST(root=\"Data\",\n",
    "                                  train=False,\n",
    "                                  transform=torchvision.transforms.ToTensor(),\n",
    "                                  target_transform=None,\n",
    "                                  download=True)"
   ]
  },
  {
   "cell_type": "code",
   "execution_count": 4,
   "metadata": {},
   "outputs": [
    {
     "data": {
      "text/plain": [
       "(60000, 10000)"
      ]
     },
     "execution_count": 4,
     "metadata": {},
     "output_type": "execute_result"
    }
   ],
   "source": [
    "len(train_data), len(test_data)"
   ]
  },
  {
   "cell_type": "code",
   "execution_count": 5,
   "metadata": {},
   "outputs": [
    {
     "data": {
      "text/plain": [
       "['T-shirt/top',\n",
       " 'Trouser',\n",
       " 'Pullover',\n",
       " 'Dress',\n",
       " 'Coat',\n",
       " 'Sandal',\n",
       " 'Shirt',\n",
       " 'Sneaker',\n",
       " 'Bag',\n",
       " 'Ankle boot']"
      ]
     },
     "execution_count": 5,
     "metadata": {},
     "output_type": "execute_result"
    }
   ],
   "source": [
    "class_names = train_data.classes\n",
    "class_names"
   ]
  },
  {
   "cell_type": "code",
   "execution_count": 6,
   "metadata": {},
   "outputs": [],
   "source": [
    "# create a dataloader\n",
    "BATCH_SIZE = 32\n",
    "\n",
    "train_dataloader = DataLoader(train_data, batch_size=BATCH_SIZE, shuffle=True)\n",
    "test_dataloader = DataLoader(test_data, batch_size=BATCH_SIZE, shuffle=False)"
   ]
  },
  {
   "cell_type": "code",
   "execution_count": 7,
   "metadata": {},
   "outputs": [
    {
     "data": {
      "text/plain": [
       "(1875, 313)"
      ]
     },
     "execution_count": 7,
     "metadata": {},
     "output_type": "execute_result"
    }
   ],
   "source": [
    "# 1875 batches --> 60000 / 32\n",
    "train_dataloader.__len__(), test_dataloader.__len__() "
   ]
  },
  {
   "cell_type": "code",
   "execution_count": 8,
   "metadata": {},
   "outputs": [],
   "source": [
    "# check the device\n",
    "device = \"cuda\" if torch.cuda.is_available() else \"cpu\""
   ]
  },
  {
   "cell_type": "markdown",
   "metadata": {},
   "source": [
    "## Convolutional Neural Network Model"
   ]
  },
  {
   "cell_type": "code",
   "execution_count": 9,
   "metadata": {},
   "outputs": [],
   "source": [
    "class CNNModel(nn.Module):\n",
    "    def __init__(self, input_dim: int, hidden_dim: int, output_dim: int):\n",
    "        super().__init__()\n",
    "        self.layer_block_1 = nn.Sequential(\n",
    "            nn.Conv2d(in_channels=input_dim, \n",
    "                      out_channels=hidden_dim,\n",
    "                      kernel_size=3,\n",
    "                      stride=1,\n",
    "                      padding=1),\n",
    "            nn.ReLU(),\n",
    "            nn.Conv2d(in_channels=hidden_dim,\n",
    "                      out_channels=hidden_dim,\n",
    "                      kernel_size=3,\n",
    "                      stride=1,\n",
    "                      padding=1),\n",
    "            nn.ReLU(),\n",
    "            nn.MaxPool2d(kernel_size=2)\n",
    "        )\n",
    "\n",
    "        self.layer_block_2 = nn.Sequential(\n",
    "            nn.Conv2d(in_channels=hidden_dim,\n",
    "                      out_channels=hidden_dim,\n",
    "                      kernel_size=3,\n",
    "                      stride=1,\n",
    "                      padding=1),\n",
    "            nn.ReLU(),\n",
    "            nn.Conv2d(in_channels=hidden_dim,\n",
    "                      out_channels=hidden_dim,\n",
    "                      kernel_size=3,\n",
    "                      stride=1,\n",
    "                      padding=1),\n",
    "            nn.ReLU(),\n",
    "            nn.MaxPool2d(kernel_size=2)\n",
    "        )\n",
    "\n",
    "        self.classifier = nn.Sequential(\n",
    "            nn.Flatten(),\n",
    "            nn.Linear(in_features=hidden_dim * 7*7, # 7*7 should be calculated, the way to do it is, just write hiddem_dim and pass the data, it'll show the expected dim in err\n",
    "                      out_features=output_dim)\n",
    "        )\n",
    "\n",
    "    def forward(self, x:torch.Tensor) -> torch.Tensor:\n",
    "        x = self.layer_block_1(x)\n",
    "        # print(f\"Shape of layer block 1 output: {x.shape}\")\n",
    "        x = self.layer_block_2(x)\n",
    "        # print(f\"Shape of layer block 2 output: {x.shape}\")\n",
    "        x = self.classifier(x)\n",
    "        # print(f\"Shape of classifier output: {x.shape}\")\n",
    "\n",
    "        return x"
   ]
  },
  {
   "cell_type": "markdown",
   "metadata": {},
   "source": [
    "#### Try Conv2D layer seperately "
   ]
  },
  {
   "cell_type": "code",
   "execution_count": 10,
   "metadata": {},
   "outputs": [
    {
     "data": {
      "text/plain": [
       "torch.Size([32, 1, 28, 28])"
      ]
     },
     "execution_count": 10,
     "metadata": {},
     "output_type": "execute_result"
    }
   ],
   "source": [
    "img, label = next(iter(train_dataloader))\n",
    "img.shape # -> [batch_size, color_channels, height, width]"
   ]
  },
  {
   "cell_type": "code",
   "execution_count": 11,
   "metadata": {},
   "outputs": [],
   "source": [
    "layer = nn.Conv2d(in_channels=1, # No.of channels of the image\n",
    "          out_channels=10, # output classes you are raining network for\n",
    "          kernel_size=3, # filter size\n",
    "          stride=1, # no.of columns filter will move\n",
    "          padding=0) # extra pixels added around the img to give importance to the corner pixels as well\n",
    "\n",
    "max_pool_layer = nn.MaxPool2d(kernel_size=2) # to select pixel with the highest value"
   ]
  },
  {
   "cell_type": "code",
   "execution_count": 12,
   "metadata": {},
   "outputs": [
    {
     "name": "stdout",
     "output_type": "stream",
     "text": [
      "Shape of the image after Conv2D: torch.Size([32, 10, 26, 26])\n",
      "Shape of the image after max_pool_layer: torch.Size([32, 10, 13, 13])\n"
     ]
    }
   ],
   "source": [
    "# passing image through both the layers \n",
    "\n",
    "x = layer(img)\n",
    "print(f\"Shape of the image after Conv2D: {x.shape}\")\n",
    "x = max_pool_layer(x)\n",
    "print(f\"Shape of the image after max_pool_layer: {x.shape}\")"
   ]
  },
  {
   "cell_type": "markdown",
   "metadata": {},
   "source": [
    "### Setup a Train Fxn and Eval Fxn"
   ]
  },
  {
   "cell_type": "code",
   "execution_count": 13,
   "metadata": {},
   "outputs": [],
   "source": [
    "def train_step(model: torch.nn.Module,\n",
    "               loss_fn: torch.nn.Module,\n",
    "               dataloader: torch.utils.data.DataLoader,\n",
    "               optimizer: torch.optim.Optimizer,\n",
    "               accuracy_fn,\n",
    "               device: torch.device = device):\n",
    "    \n",
    "    model.train()\n",
    "\n",
    "    train_acc, train_loss = 0, 0    \n",
    "    for X, y in dataloader:\n",
    "        X, y = X.to(device), y.to(device)\n",
    "        y_pred = model(X)\n",
    "        loss = loss_fn(y_pred, y)\n",
    "        optimizer.zero_grad()\n",
    "        loss.backward()\n",
    "        optimizer.step()\n",
    "        acc = accuracy_fn(y_pred, y)\n",
    "\n",
    "        train_acc += acc\n",
    "        train_loss += loss\n",
    "\n",
    "    train_acc /= len(dataloader)\n",
    "    train_loss /= len(dataloader) \n",
    "\n",
    "    print(f\"Train loss: {train_loss} | Train acc: {train_acc}\")\n",
    "\n",
    "def eval_step(model: torch.nn.Module,\n",
    "              loss_fn: torch.nn.Module,\n",
    "              dataloader: torch.utils.data.DataLoader,\n",
    "              accuracy_fn,\n",
    "              device: torch.device = device):\n",
    "    \n",
    "    model.eval()\n",
    "    test_loss, test_acc = 0, 0\n",
    "\n",
    "    for X, y in dataloader:\n",
    "        X, y = X.to(device), y.to(device)\n",
    "        y_pred = model(X)\n",
    "        loss = loss_fn(y_pred, y)\n",
    "        acc = accuracy_fn(y_pred, y)\n",
    "\n",
    "        test_loss += loss\n",
    "        test_acc += acc\n",
    "\n",
    "    test_loss /= len(dataloader)\n",
    "    test_acc /= len(dataloader)\n",
    "\n",
    "    print(f\"Test loss: {test_loss} | Test acc: {test_acc}\")"
   ]
  },
  {
   "cell_type": "markdown",
   "metadata": {},
   "source": [
    "### Write the train and Eval loop"
   ]
  },
  {
   "cell_type": "code",
   "execution_count": 14,
   "metadata": {},
   "outputs": [
    {
     "data": {
      "text/plain": [
       "CNNModel(\n",
       "  (layer_block_1): Sequential(\n",
       "    (0): Conv2d(1, 10, kernel_size=(3, 3), stride=(1, 1), padding=(1, 1))\n",
       "    (1): ReLU()\n",
       "    (2): Conv2d(10, 10, kernel_size=(3, 3), stride=(1, 1), padding=(1, 1))\n",
       "    (3): ReLU()\n",
       "    (4): MaxPool2d(kernel_size=2, stride=2, padding=0, dilation=1, ceil_mode=False)\n",
       "  )\n",
       "  (layer_block_2): Sequential(\n",
       "    (0): Conv2d(10, 10, kernel_size=(3, 3), stride=(1, 1), padding=(1, 1))\n",
       "    (1): ReLU()\n",
       "    (2): Conv2d(10, 10, kernel_size=(3, 3), stride=(1, 1), padding=(1, 1))\n",
       "    (3): ReLU()\n",
       "    (4): MaxPool2d(kernel_size=2, stride=2, padding=0, dilation=1, ceil_mode=False)\n",
       "  )\n",
       "  (classifier): Sequential(\n",
       "    (0): Flatten(start_dim=1, end_dim=-1)\n",
       "    (1): Linear(in_features=490, out_features=10, bias=True)\n",
       "  )\n",
       ")"
      ]
     },
     "execution_count": 14,
     "metadata": {},
     "output_type": "execute_result"
    }
   ],
   "source": [
    "model = CNNModel(input_dim=1, # channels of input image\n",
    "                 hidden_dim=10, # hidden units\n",
    "                 output_dim=10) # output classes\n",
    "\n",
    "model.to(device)"
   ]
  },
  {
   "cell_type": "code",
   "execution_count": 15,
   "metadata": {},
   "outputs": [],
   "source": [
    "loss_fn = nn.CrossEntropyLoss()\n",
    "optimizer = torch.optim.SGD(params=model.parameters(), lr=0.1)"
   ]
  },
  {
   "cell_type": "code",
   "execution_count": 16,
   "metadata": {},
   "outputs": [
    {
     "name": "stdout",
     "output_type": "stream",
     "text": [
      "Train loss: 0.6785107254981995 | Train acc: 0.7492166757583618\n",
      "Test loss: 0.3884817361831665 | Test acc: 0.8553314805030823\n",
      "Train loss: 0.3694513142108917 | Train acc: 0.8667833209037781\n",
      "Test loss: 0.3513369560241699 | Test acc: 0.870207667350769\n",
      "Train loss: 0.33025676012039185 | Train acc: 0.8796666860580444\n",
      "Test loss: 0.34846794605255127 | Test acc: 0.870207667350769\n",
      "Train loss: 0.3067415952682495 | Train acc: 0.8894667029380798\n",
      "Test loss: 0.327435165643692 | Test acc: 0.8846845030784607\n",
      "Train loss: 0.28905731439590454 | Train acc: 0.8947833180427551\n",
      "Test loss: 0.31552359461784363 | Test acc: 0.8845846652984619\n",
      "Train loss: 0.2777009904384613 | Train acc: 0.8987166881561279\n",
      "Test loss: 0.30802664160728455 | Test acc: 0.8861820697784424\n",
      "Train loss: 0.27023813128471375 | Train acc: 0.9014333486557007\n",
      "Test loss: 0.2977448105812073 | Test acc: 0.8960662484169006\n",
      "Train loss: 0.2632457911968231 | Train acc: 0.9040166735649109\n",
      "Test loss: 0.3005613684654236 | Test acc: 0.8885782361030579\n",
      "Train loss: 0.2576368451118469 | Train acc: 0.9071333408355713\n",
      "Test loss: 0.2905236780643463 | Test acc: 0.8934704065322876\n",
      "Train loss: 0.2537977695465088 | Train acc: 0.9073500037193298\n",
      "Test loss: 0.2827583849430084 | Test acc: 0.8974640369415283\n",
      "Total time taken: 197.42756056785583 seconds\n"
     ]
    }
   ],
   "source": [
    "from torchmetrics import Accuracy\n",
    "import time\n",
    "\n",
    "accuracy = Accuracy(task=\"multiclass\", num_classes=10).to(device)\n",
    "epochs = 10\n",
    "\n",
    "start_time = time.time()\n",
    "for epoch in range(epochs):\n",
    "    train_step(model, loss_fn, train_dataloader, optimizer, accuracy)\n",
    "    eval_step(model, loss_fn, test_dataloader, accuracy)\n",
    "\n",
    "stop_time = time.time()\n",
    "print(f\"Total time taken: {stop_time-start_time} seconds\")"
   ]
  },
  {
   "cell_type": "code",
   "execution_count": 33,
   "metadata": {},
   "outputs": [],
   "source": [
    "def make_predictions(model: torch.nn.Module,\n",
    "                     data: list,\n",
    "                     device:torch.device = device):\n",
    "    \n",
    "    model.to(device)\n",
    "    model.eval()\n",
    "    test_probs = []\n",
    "    with torch.inference_mode():\n",
    "        for img in data:\n",
    "            img = img.to(device)\n",
    "            # print(f\"img: {img.shape}\")\n",
    "            raw_logits = model(img)\n",
    "            # print(f\"raw_logits: {raw_logits.shape} | {raw_logits}\")\n",
    "            probs = torch.softmax(raw_logits, dim=1)\n",
    "            # print(f\"probs: {probs}\")\n",
    "            probs = probs.argmax(dim=1)\n",
    "            # print(f\"probs: {probs}\")\n",
    "            test_probs.append(probs.cpu())\n",
    "    \n",
    "    return torch.stack(test_probs)"
   ]
  },
  {
   "cell_type": "code",
   "execution_count": 18,
   "metadata": {},
   "outputs": [
    {
     "data": {
      "text/plain": [
       "(torch.Size([1, 28, 28]), 9, 10000)"
      ]
     },
     "execution_count": 18,
     "metadata": {},
     "output_type": "execute_result"
    }
   ],
   "source": [
    "img, label = test_data[0]\n",
    "img.shape, label, len(test_data)"
   ]
  },
  {
   "cell_type": "code",
   "execution_count": 19,
   "metadata": {},
   "outputs": [
    {
     "data": {
      "text/plain": [
       "torch.Size([1, 1, 28, 28])"
      ]
     },
     "execution_count": 19,
     "metadata": {},
     "output_type": "execute_result"
    }
   ],
   "source": [
    "img.unsqueeze(dim=0).shape"
   ]
  },
  {
   "cell_type": "code",
   "execution_count": 20,
   "metadata": {},
   "outputs": [],
   "source": [
    "# Test data is selected ramdomly to make predictions\n",
    "random_idx = np.random.randint(0, len(test_data), 9)\n",
    "sample_data, truth_label = [], []\n",
    "\n",
    "for idx in random_idx:\n",
    "    img, label = test_data[idx]\n",
    "    sample_data.append(img.unsqueeze(dim=0)) # batch dim is added cause the model expects a batch dim\n",
    "    truth_label.append(label)"
   ]
  },
  {
   "cell_type": "code",
   "execution_count": 34,
   "metadata": {},
   "outputs": [],
   "source": [
    "# Predict results\n",
    "pred_probs = make_predictions(model=model, data=sample_data)"
   ]
  },
  {
   "cell_type": "code",
   "execution_count": 43,
   "metadata": {},
   "outputs": [
    {
     "data": {
      "image/png": "[encoded data removed]",
      "text/plain": [
       "<Figure size 900x900 with 9 Axes>"
      ]
     },
     "metadata": {},
     "output_type": "display_data"
    }
   ],
   "source": [
    "# plot results\n",
    "plt.figure(figsize=(9,9))\n",
    "nrows = 3\n",
    "ncols = 3\n",
    "\n",
    "for i, sample in enumerate(sample_data):\n",
    "    # create a subplot\n",
    "    plt.subplot(nrows, ncols, i+1)\n",
    "\n",
    "    plt.imshow(sample.squeeze(), cmap='gray')\n",
    "    plt.axis(False)\n",
    "\n",
    "    if pred_probs[i] == truth_label[i]:\n",
    "        plt.title(label=f\"Pred: {class_names[pred_probs[i]]} | True label: {class_names[truth_label[i]]}\", c='g', size=8)\n",
    "    else:\n",
    "        plt.title(label=f\"Pred: {class_names[pred_probs[i]]} | True label: {class_names[truth_label[i]]}\", c='r', size=8)\n",
    "\n"
   ]
  },
  {
   "cell_type": "code",
   "execution_count": null,
   "metadata": {},
   "outputs": [],
   "source": []
  },
  {
   "cell_type": "code",
   "execution_count": null,
   "metadata": {},
   "outputs": [],
   "source": []
  }
 ],
 "metadata": {
  "kernelspec": {
   "display_name": "mltorch",
   "language": "python",
   "name": "python3"
  },
  "language_info": {
   "codemirror_mode": {
    "name": "ipython",
    "version": 3
   },
   "file_extension": ".py",
   "mimetype": "text/x-python",
   "name": "python",
   "nbconvert_exporter": "python",
   "pygments_lexer": "ipython3",
   "version": "3.10.4"
  }
 },
 "nbformat": 4,
 "nbformat_minor": 2
}
